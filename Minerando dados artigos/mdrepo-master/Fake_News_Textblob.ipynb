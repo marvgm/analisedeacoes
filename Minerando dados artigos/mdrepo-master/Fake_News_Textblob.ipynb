{
 "cells": [
  {
   "cell_type": "markdown",
   "metadata": {},
   "source": [
    "# Instalação do TextBlob"
   ]
  },
  {
   "cell_type": "code",
   "execution_count": 2,
   "metadata": {},
   "outputs": [
    {
     "name": "stdout",
     "output_type": "stream",
     "text": [
      "Collecting textblob\n",
      "\u001b[?25l  Downloading https://files.pythonhosted.org/packages/11/18/7f55c8be6d68ddc4036ffda5382ca51e23a1075987f708b9123712091af1/textblob-0.15.1-py2.py3-none-any.whl (631kB)\n",
      "\u001b[K    100% |████████████████████████████████| 634kB 110kB/s a 0:00:011\n",
      "\u001b[?25hRequirement already satisfied: nltk>=3.1 in /web/datascience/anaconda/lib/python3.6/site-packages (from textblob) (3.3)\n",
      "Requirement already satisfied: six in /web/datascience/anaconda/lib/python3.6/site-packages (from nltk>=3.1->textblob) (1.11.0)\n",
      "Installing collected packages: textblob\n",
      "Successfully installed textblob-0.15.1\n"
     ]
    }
   ],
   "source": [
    "!pip install textblob"
   ]
  },
  {
   "cell_type": "markdown",
   "metadata": {},
   "source": [
    "** Baixando a base de dados**"
   ]
  },
  {
   "cell_type": "code",
   "execution_count": 14,
   "metadata": {},
   "outputs": [
    {
     "name": "stdout",
     "output_type": "stream",
     "text": [
      "[nltk_data] Downloading package brown to /root/nltk_data...\n",
      "[nltk_data]   Unzipping corpora/brown.zip.\n",
      "[nltk_data] Downloading package punkt to /root/nltk_data...\n",
      "[nltk_data]   Unzipping tokenizers/punkt.zip.\n",
      "[nltk_data] Downloading package wordnet to /root/nltk_data...\n",
      "[nltk_data]   Unzipping corpora/wordnet.zip.\n",
      "[nltk_data] Downloading package averaged_perceptron_tagger to\n",
      "[nltk_data]     /root/nltk_data...\n",
      "[nltk_data]   Unzipping taggers/averaged_perceptron_tagger.zip.\n",
      "[nltk_data] Downloading package conll2000 to /root/nltk_data...\n",
      "[nltk_data]   Unzipping corpora/conll2000.zip.\n",
      "[nltk_data] Downloading package movie_reviews to /root/nltk_data...\n",
      "[nltk_data]   Unzipping corpora/movie_reviews.zip.\n",
      "Finished.\n"
     ]
    }
   ],
   "source": [
    "!python -m textblob.download_corpora"
   ]
  },
  {
   "cell_type": "markdown",
   "metadata": {},
   "source": [
    "**Importando a Biblioteca**"
   ]
  },
  {
   "cell_type": "code",
   "execution_count": 1,
   "metadata": {},
   "outputs": [],
   "source": [
    "from textblob import TextBlob\n",
    "import pandas as pd"
   ]
  },
  {
   "cell_type": "markdown",
   "metadata": {},
   "source": [
    "**Trabalhando com uma sentença de exemplo**"
   ]
  },
  {
   "cell_type": "code",
   "execution_count": 26,
   "metadata": {},
   "outputs": [],
   "source": [
    "frase = TextBlob(\"Eleicoes no Brasil causa tumulto e serão anuladas\")"
   ]
  },
  {
   "cell_type": "code",
   "execution_count": 28,
   "metadata": {},
   "outputs": [
    {
     "data": {
      "text/plain": [
       "textblob.blob.TextBlob"
      ]
     },
     "execution_count": 28,
     "metadata": {},
     "output_type": "execute_result"
    }
   ],
   "source": [
    "type(frase)"
   ]
  },
  {
   "cell_type": "markdown",
   "metadata": {},
   "source": [
    "** tokens **"
   ]
  },
  {
   "cell_type": "code",
   "execution_count": 29,
   "metadata": {},
   "outputs": [
    {
     "data": {
      "text/plain": [
       "WordList(['Eleicoes', 'no', 'Brasil', 'causa', 'tumulto', 'e', 'serão', 'anuladas'])"
      ]
     },
     "execution_count": 29,
     "metadata": {},
     "output_type": "execute_result"
    }
   ],
   "source": [
    "frase.tokens"
   ]
  },
  {
   "cell_type": "markdown",
   "metadata": {},
   "source": [
    "** Tokenização e Sentenças**"
   ]
  },
  {
   "cell_type": "code",
   "execution_count": 4,
   "metadata": {},
   "outputs": [],
   "source": [
    "sentencas = TextBlob(\"O capitão américa aparece sobrevoando São Paulo e diz que irá se candidatar. \"\n",
    "                     \"A polarização da população gera guerra civil.\"\n",
    "                     \"O Chaves se pronuncia e diz está indignado com tanta mentira.\")"
   ]
  },
  {
   "cell_type": "markdown",
   "metadata": {},
   "source": [
    "** Sentenças**"
   ]
  },
  {
   "cell_type": "code",
   "execution_count": 6,
   "metadata": {},
   "outputs": [
    {
     "name": "stdout",
     "output_type": "stream",
     "text": [
      "O capitão américa aparece sobrevoando São Paulo e diz que irá se candidatar.\n",
      "A polarização da população gera guerra civil.O Chaves se pronuncia e diz está indignado com tanta mentira.\n"
     ]
    }
   ],
   "source": [
    "for i in sentencas.sentences:\n",
    "    print (i)"
   ]
  },
  {
   "cell_type": "markdown",
   "metadata": {},
   "source": [
    "** Tradução de Sentenças**"
   ]
  },
  {
   "cell_type": "code",
   "execution_count": 31,
   "metadata": {},
   "outputs": [
    {
     "data": {
      "text/plain": [
       "TextBlob(\"The captain of america appears flying over São Paulo and says he will apply\")"
      ]
     },
     "execution_count": 31,
     "metadata": {},
     "output_type": "execute_result"
    }
   ],
   "source": [
    "frase_ingles = TextBlob(u'O capitão américa aparece sobrevoando São Paulo e diz que irá se candidatar')\n",
    "frase_ingles.translate(from_lang='pt', to='en')"
   ]
  },
  {
   "cell_type": "code",
   "execution_count": 32,
   "metadata": {},
   "outputs": [
    {
     "data": {
      "text/plain": [
       "TextBlob(\"The polarization of the population generates civil war\")"
      ]
     },
     "execution_count": 32,
     "metadata": {},
     "output_type": "execute_result"
    }
   ],
   "source": [
    "frase_ingles = TextBlob(u'A polarização da população gera guerra civil')\n",
    "frase_ingles.translate(from_lang='pt', to='en')"
   ]
  },
  {
   "cell_type": "code",
   "execution_count": 33,
   "metadata": {},
   "outputs": [
    {
     "data": {
      "text/plain": [
       "TextBlob(\"The Chaves pronounces himself and says he is outraged by such a lie.\")"
      ]
     },
     "execution_count": 33,
     "metadata": {},
     "output_type": "execute_result"
    }
   ],
   "source": [
    "frase_ingles = TextBlob(u'O Chaves se pronuncia e diz está indignado com tanta mentira.')\n",
    "frase_ingles.translate(from_lang='pt', to='en')"
   ]
  },
  {
   "cell_type": "markdown",
   "metadata": {},
   "source": [
    "** Classificando textos**"
   ]
  },
  {
   "cell_type": "code",
   "execution_count": 10,
   "metadata": {},
   "outputs": [],
   "source": [
    "news = pd.read_csv('news.csv', sep=';', header=None)"
   ]
  },
  {
   "cell_type": "code",
   "execution_count": 11,
   "metadata": {},
   "outputs": [
    {
     "data": {
      "text/plain": [
       "array([['O capitão américa aparece sobrevoando São Paulo e diz que irá se candidatar',\n",
       "        'verdadeiro'],\n",
       "       ['A polarização da população gera guerra civil', 'fake_news'],\n",
       "       ['O Chaves se pronuncia e diz está indignado com tanta mentira.',\n",
       "        'verdadeiro'],\n",
       "       ['Morte do precidenciavel X por acidente de aviao', 'verdadeiro'],\n",
       "       ['Monumento de Brasilia é atacado por manifestantes e eleicoes seráo canceladas',\n",
       "        'fake_news'],\n",
       "       ['Novo presidente se diz confiante para governar o pais',\n",
       "        'verdadeiro'],\n",
       "       ['Jair Bolsonaro sobe no ranking de rejeicao no nordeste',\n",
       "        'verdadeiro'],\n",
       "       ['Haddad melhora nas pesquisas apos apoio de Lula', 'verdadeiro'],\n",
       "       ['Disputa no segundo turno está cada vez mais acirrada entre os extremos',\n",
       "        'verdadeiro'],\n",
       "       ['Amoedo declara apoio ao PT', 'fake_news'],\n",
       "       ['Manifestantes em Sao Paulo param avenida pedem intervençao militar!',\n",
       "        'fake_news'],\n",
       "       ['Padre Marcelo Rossi diz que irá se candidatar a presidencia',\n",
       "        'fake_news'],\n",
       "       ['Ex presidente Lula consegue habeas Corpus e pode ser candidato',\n",
       "        'fake_news'],\n",
       "       ['Presidente temmer declara apoio ao partido NOVO', 'fake_news'],\n",
       "       ['Mourao declara que é contra o 13 salario e adiantamento de férias de funcionários',\n",
       "        'verdadeiro']], dtype=object)"
      ]
     },
     "execution_count": 11,
     "metadata": {},
     "output_type": "execute_result"
    }
   ],
   "source": [
    "news.values"
   ]
  },
  {
   "cell_type": "code",
   "execution_count": 12,
   "metadata": {},
   "outputs": [],
   "source": [
    "from textblob.classifiers import NaiveBayesClassifier\n",
    "clf = NaiveBayesClassifier(news.values, format=\"csv\")"
   ]
  },
  {
   "cell_type": "code",
   "execution_count": 15,
   "metadata": {},
   "outputs": [
    {
     "data": {
      "text/plain": [
       "'fake_news'"
      ]
     },
     "execution_count": 15,
     "metadata": {},
     "output_type": "execute_result"
    }
   ],
   "source": [
    "clf.classify('Presidente Temmer declara apoio a candidato do PSDB')"
   ]
  },
  {
   "cell_type": "code",
   "execution_count": 24,
   "metadata": {},
   "outputs": [
    {
     "data": {
      "text/plain": [
       "'verdadeiro'"
      ]
     },
     "execution_count": 24,
     "metadata": {},
     "output_type": "execute_result"
    }
   ],
   "source": [
    "clf.classify('Disputa entre presidenciais sera mesmo no segundo turno')"
   ]
  },
  {
   "cell_type": "markdown",
   "metadata": {},
   "source": [
    "** Distribuicao das Probabilidades**"
   ]
  },
  {
   "cell_type": "code",
   "execution_count": 46,
   "metadata": {},
   "outputs": [],
   "source": [
    "dist_prob = clf.prob_classify('Padre Marcelo Rossi se pronuncia e diz que irá se candidatar')"
   ]
  },
  {
   "cell_type": "code",
   "execution_count": 47,
   "metadata": {},
   "outputs": [
    {
     "data": {
      "text/plain": [
       "0.8336538270304833"
      ]
     },
     "execution_count": 47,
     "metadata": {},
     "output_type": "execute_result"
    }
   ],
   "source": [
    "dist_prob.prob('fake_news')"
   ]
  },
  {
   "cell_type": "code",
   "execution_count": 48,
   "metadata": {},
   "outputs": [
    {
     "data": {
      "text/plain": [
       "0.1663461729695183"
      ]
     },
     "execution_count": 48,
     "metadata": {},
     "output_type": "execute_result"
    }
   ],
   "source": [
    "dist_prob.prob('verdadeiro')"
   ]
  },
  {
   "cell_type": "code",
   "execution_count": 88,
   "metadata": {},
   "outputs": [
    {
     "data": {
      "text/plain": [
       "'fake_news'"
      ]
     },
     "execution_count": 88,
     "metadata": {},
     "output_type": "execute_result"
    }
   ],
   "source": [
    "prob_dist.max()"
   ]
  },
  {
   "cell_type": "markdown",
   "metadata": {},
   "source": [
    "**Avaliando o classificador**"
   ]
  },
  {
   "cell_type": "code",
   "execution_count": 54,
   "metadata": {},
   "outputs": [],
   "source": [
    "validacao = [\n",
    "     ('O governo temmer propoe reforma trabalhista', 'verdadeiro'),\n",
    "     ('Capitão america é visto em campanha eleitoral do partido NOVO', 'fake_news'),\n",
    "     (\"Lula é solto essa madrugada\", 'fake_news'),\n",
    "     (\"Jair Bolsonaro melhora nas pesquisas após atentado.\", 'verdadeiro')\n",
    "]"
   ]
  },
  {
   "cell_type": "markdown",
   "metadata": {},
   "source": [
    "** Acurácia**"
   ]
  },
  {
   "cell_type": "code",
   "execution_count": 56,
   "metadata": {},
   "outputs": [
    {
     "data": {
      "text/plain": [
       "0.75"
      ]
     },
     "execution_count": 56,
     "metadata": {},
     "output_type": "execute_result"
    }
   ],
   "source": [
    "clf.accuracy(validacao)"
   ]
  },
  {
   "cell_type": "code",
   "execution_count": 63,
   "metadata": {},
   "outputs": [
    {
     "name": "stdout",
     "output_type": "stream",
     "text": [
      "O governo temmer propoe reforma trabalhista fake_news\n",
      "Capitão america é visto em campanha eleitoral do partido NOVO fake_news\n",
      "Lula é solto essa madrugada fake_news\n",
      "Jair Bolsonaro melhora nas pesquisas após atentado. verdadeiro\n"
     ]
    }
   ],
   "source": [
    "for i in validacao:\n",
    "    print (i[0], clf.classify(i[0]))"
   ]
  },
  {
   "cell_type": "markdown",
   "metadata": {},
   "source": [
    "** Features Mais informativas**"
   ]
  },
  {
   "cell_type": "code",
   "execution_count": 64,
   "metadata": {},
   "outputs": [
    {
     "name": "stdout",
     "output_type": "stream",
     "text": [
      "Most Informative Features\n",
      "            contains(de) = True           verdad : fake_n =      2.7 : 1.0\n",
      "           contains(diz) = True           verdad : fake_n =      2.1 : 1.0\n",
      "            contains(se) = True           verdad : fake_n =      2.1 : 1.0\n",
      "         contains(apoio) = True           fake_n : verdad =      1.9 : 1.0\n",
      "       contains(declara) = True           fake_n : verdad =      1.9 : 1.0\n",
      "            contains(de) = False          fake_n : verdad =      1.6 : 1.0\n",
      "           contains(que) = True           verdad : fake_n =      1.5 : 1.0\n",
      "            contains(ao) = False          verdad : fake_n =      1.4 : 1.0\n",
      "           contains(diz) = False          fake_n : verdad =      1.3 : 1.0\n",
      "            contains(se) = False          fake_n : verdad =      1.3 : 1.0\n"
     ]
    }
   ],
   "source": [
    "clf.show_informative_features()"
   ]
  }
 ],
 "metadata": {
  "kernelspec": {
   "display_name": "Python 3",
   "language": "python",
   "name": "python3"
  },
  "language_info": {
   "codemirror_mode": {
    "name": "ipython",
    "version": 3
   },
   "file_extension": ".py",
   "mimetype": "text/x-python",
   "name": "python",
   "nbconvert_exporter": "python",
   "pygments_lexer": "ipython3",
   "version": "3.6.5"
  }
 },
 "nbformat": 4,
 "nbformat_minor": 2
}
